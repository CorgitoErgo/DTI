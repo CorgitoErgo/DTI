{
 "cells": [
  {
   "cell_type": "code",
   "execution_count": 1,
   "id": "5aa0e733",
   "metadata": {},
   "outputs": [],
   "source": [
    "import requests\n",
    "import json\n",
    "import pandas as pd"
   ]
  },
  {
   "cell_type": "code",
   "execution_count": 8,
   "id": "10189883",
   "metadata": {},
   "outputs": [],
   "source": [
    "\n",
    "\n",
    "# params = {\n",
    "#   'access_key': '723c40e6815cb714024f78d27a05c328'\n",
    "    \n",
    "    \n",
    "# }\n",
    "\n",
    "# api_result = requests.get('http://api.aviationstack.com/v1/flights', params)\n",
    "\n"
   ]
  },
  {
   "cell_type": "code",
   "execution_count": 26,
   "id": "1fc57c33",
   "metadata": {},
   "outputs": [],
   "source": [
    "params = {\n",
    "  'access_key': '723c40e6815cb714024f78d27a05c328',\n",
    "    'arr_iata':'SIN'\n",
    "    \n",
    "    \n",
    "}\n",
    "\n",
    "api_result = requests.get('http://api.aviationstack.com/v1/flights', params)\n",
    "\n"
   ]
  },
  {
   "cell_type": "code",
   "execution_count": 27,
   "id": "4f1b3d31",
   "metadata": {},
   "outputs": [
    {
     "name": "stdout",
     "output_type": "stream",
     "text": [
      "200\n"
     ]
    }
   ],
   "source": [
    "print(api_result.status_code)\n"
   ]
  },
  {
   "cell_type": "code",
   "execution_count": 28,
   "id": "e5d0664d",
   "metadata": {},
   "outputs": [],
   "source": [
    "api_response = api_result.json()\n",
    "api_response"
   ]
  },
  {
   "cell_type": "code",
   "execution_count": 30,
   "id": "5acb1b91",
   "metadata": {},
   "outputs": [],
   "source": [
    "\n",
    "flightdata = pd.DataFrame(api_response[\"data\"])\n",
    "flightdata"
   ]
  },
  {
   "cell_type": "code",
   "execution_count": 136,
   "id": "1b979704",
   "metadata": {},
   "outputs": [],
   "source": [
    "dic_flight = pd.DataFrame(columns =[\"number\",\"iata\",\"icao\",\"codeshared\"])"
   ]
  },
  {
   "cell_type": "code",
   "execution_count": 151,
   "id": "117afe21",
   "metadata": {},
   "outputs": [],
   "source": [
    "dic_airline = pd.DataFrame(columns =[\"name\",\"iata\",\"icao\"])"
   ]
  },
  {
   "cell_type": "code",
   "execution_count": 115,
   "id": "88bc11b9",
   "metadata": {},
   "outputs": [],
   "source": [
    "dic1 = pd.DataFrame(columns =[\"airport\",\"timezone\",\"iata\",\"icao\",\"terminal\",\"gate\",\"delay\",\"scheduled\",\"estimated\",\"actual\",\"estimated_runway\",\"actual_runway\"])"
   ]
  },
  {
   "cell_type": "code",
   "execution_count": 125,
   "id": "eeeedb53",
   "metadata": {},
   "outputs": [],
   "source": [
    "dic_arrival = pd.DataFrame(columns =[\"airport\",\"timezone\",\"iata\",\"icao\",\"terminal\",\"gate\",\"delay\",\"scheduled\",\"estimated\",\"actual\",\"estimated_runway\",\"actual_runway\"])"
   ]
  },
  {
   "cell_type": "code",
   "execution_count": 123,
   "id": "5b66ecd5",
   "metadata": {},
   "outputs": [
    {
     "data": {
      "text/html": [
       "<div>\n",
       "<style scoped>\n",
       "    .dataframe tbody tr th:only-of-type {\n",
       "        vertical-align: middle;\n",
       "    }\n",
       "\n",
       "    .dataframe tbody tr th {\n",
       "        vertical-align: top;\n",
       "    }\n",
       "\n",
       "    .dataframe thead th {\n",
       "        text-align: right;\n",
       "    }\n",
       "</style>\n",
       "<table border=\"1\" class=\"dataframe\">\n",
       "  <thead>\n",
       "    <tr style=\"text-align: right;\">\n",
       "      <th></th>\n",
       "      <th>airport</th>\n",
       "      <th>timezone</th>\n",
       "      <th>iata</th>\n",
       "      <th>icao</th>\n",
       "      <th>terminal</th>\n",
       "      <th>gate</th>\n",
       "      <th>baggage</th>\n",
       "      <th>delay</th>\n",
       "      <th>scheduled</th>\n",
       "      <th>estimated</th>\n",
       "      <th>actual</th>\n",
       "      <th>estimated_runway</th>\n",
       "      <th>actual_runway</th>\n",
       "    </tr>\n",
       "  </thead>\n",
       "  <tbody>\n",
       "    <tr>\n",
       "      <th>0</th>\n",
       "      <td>Singapore Changi</td>\n",
       "      <td>Asia/Singapore</td>\n",
       "      <td>SIN</td>\n",
       "      <td>WSSS</td>\n",
       "      <td>2</td>\n",
       "      <td>None</td>\n",
       "      <td>None</td>\n",
       "      <td>None</td>\n",
       "      <td>2024-03-20T07:00:00+00:00</td>\n",
       "      <td>2024-03-20T07:00:00+00:00</td>\n",
       "      <td>None</td>\n",
       "      <td>None</td>\n",
       "      <td>None</td>\n",
       "    </tr>\n",
       "  </tbody>\n",
       "</table>\n",
       "</div>"
      ],
      "text/plain": [
       "            airport        timezone iata  icao terminal  gate baggage delay  \\\n",
       "0  Singapore Changi  Asia/Singapore  SIN  WSSS        2  None    None  None   \n",
       "\n",
       "                   scheduled                  estimated actual  \\\n",
       "0  2024-03-20T07:00:00+00:00  2024-03-20T07:00:00+00:00   None   \n",
       "\n",
       "  estimated_runway actual_runway  \n",
       "0             None          None  "
      ]
     },
     "execution_count": 123,
     "metadata": {},
     "output_type": "execute_result"
    }
   ],
   "source": [
    "# # flightdata['arrival'][0]\n",
    "# mehmeh = flightdata['arrival'][0]\n",
    "# dic = pd.DataFrame.from_dict(mehmeh, orient='index')\n",
    "# dic =  dic.T\n",
    "# dic"
   ]
  },
  {
   "cell_type": "code",
   "execution_count": 116,
   "id": "4ed19b55",
   "metadata": {
    "scrolled": true
   },
   "outputs": [],
   "source": [
    "# mehmeh = flightdata['departure'][1]\n",
    "# dict2 = pd.DataFrame.from_dict(mehmeh, orient='index')\n",
    "# dic2 =  dict2.T\n",
    "# dic1 = pd.concat([dic1, dic2])\n",
    "# dic1"
   ]
  },
  {
   "cell_type": "code",
   "execution_count": null,
   "id": "031c28ef",
   "metadata": {},
   "outputs": [],
   "source": []
  },
  {
   "cell_type": "code",
   "execution_count": 144,
   "id": "3081d598",
   "metadata": {},
   "outputs": [
    {
     "data": {
      "text/html": [
       "<div>\n",
       "<style scoped>\n",
       "    .dataframe tbody tr th:only-of-type {\n",
       "        vertical-align: middle;\n",
       "    }\n",
       "\n",
       "    .dataframe tbody tr th {\n",
       "        vertical-align: top;\n",
       "    }\n",
       "\n",
       "    .dataframe thead th {\n",
       "        text-align: right;\n",
       "    }\n",
       "</style>\n",
       "<table border=\"1\" class=\"dataframe\">\n",
       "  <thead>\n",
       "    <tr style=\"text-align: right;\">\n",
       "      <th></th>\n",
       "      <th>airport</th>\n",
       "      <th>timezone</th>\n",
       "      <th>iata</th>\n",
       "      <th>icao</th>\n",
       "      <th>terminal</th>\n",
       "      <th>gate</th>\n",
       "      <th>delay</th>\n",
       "      <th>scheduled</th>\n",
       "      <th>estimated</th>\n",
       "      <th>actual</th>\n",
       "      <th>estimated_runway</th>\n",
       "      <th>actual_runway</th>\n",
       "    </tr>\n",
       "  </thead>\n",
       "  <tbody>\n",
       "    <tr>\n",
       "      <th>0</th>\n",
       "      <td>Melbourne - Tullamarine Airport</td>\n",
       "      <td>Australia/Melbourne</td>\n",
       "      <td>MEL</td>\n",
       "      <td>YMML</td>\n",
       "      <td>2</td>\n",
       "      <td>18</td>\n",
       "      <td>None</td>\n",
       "      <td>2024-03-20T03:25:00+00:00</td>\n",
       "      <td>2024-03-20T03:25:00+00:00</td>\n",
       "      <td>None</td>\n",
       "      <td>None</td>\n",
       "      <td>None</td>\n",
       "    </tr>\n",
       "  </tbody>\n",
       "</table>\n",
       "</div>"
      ],
      "text/plain": [
       "                           airport             timezone iata  icao terminal  \\\n",
       "0  Melbourne - Tullamarine Airport  Australia/Melbourne  MEL  YMML        2   \n",
       "\n",
       "  gate delay                  scheduled                  estimated actual  \\\n",
       "0   18  None  2024-03-20T03:25:00+00:00  2024-03-20T03:25:00+00:00   None   \n",
       "\n",
       "  estimated_runway actual_runway  \n",
       "0             None          None  "
      ]
     },
     "execution_count": 144,
     "metadata": {},
     "output_type": "execute_result"
    }
   ],
   "source": [
    "empty_dic = pd.DataFrame()\n",
    "mehmeh = flightdata['departure'][2]\n",
    "dict3 = pd.DataFrame.from_dict(mehmeh, orient='index')\n",
    "dic3 =  dict3.T\n",
    "empty_dic = pd.concat([empty_dic, dic3])\n",
    "empty_dic"
   ]
  },
  {
   "cell_type": "code",
   "execution_count": 119,
   "id": "31a796ce",
   "metadata": {},
   "outputs": [],
   "source": [
    "\n",
    "for x in flightdata['departure']:\n",
    "    \n",
    "    dict2 = pd.DataFrame.from_dict(x, orient='index')\n",
    "    dic2 =  dict2.T\n",
    "    dic1 = pd.concat([dic1, dic2])\n",
    "    \n",
    "departure =   dic1.reset_index() "
   ]
  },
  {
   "cell_type": "code",
   "execution_count": 126,
   "id": "4c008a60",
   "metadata": {},
   "outputs": [],
   "source": [
    "\n",
    "for x in flightdata['arrival']:\n",
    "    \n",
    "    dict2 = pd.DataFrame.from_dict(x, orient='index')\n",
    "    dic2 =  dict2.T\n",
    "    dic_arrival = pd.concat([dic_arrival, dic2])\n",
    "    \n",
    "arrival =   dic_arrival.reset_index() "
   ]
  },
  {
   "cell_type": "code",
   "execution_count": 137,
   "id": "d496146d",
   "metadata": {},
   "outputs": [],
   "source": [
    "for x in flightdata['flight']:\n",
    "    \n",
    "    dict2 = pd.DataFrame.from_dict(x, orient='index')\n",
    "    dic2 =  dict2.T\n",
    "    dic_flight = pd.concat([dic_flight, dic2])\n",
    "    \n",
    "flight =   dic_flight.reset_index() "
   ]
  },
  {
   "cell_type": "code",
   "execution_count": 152,
   "id": "0051a682",
   "metadata": {},
   "outputs": [],
   "source": [
    "for x in flightdata['airline']:\n",
    "    \n",
    "    dict2 = pd.DataFrame.from_dict(x, orient='index')\n",
    "    dic2 =  dict2.T\n",
    "    dic_airline = pd.concat([dic_airline, dic2])\n",
    "    \n",
    "airline =   dic_airline.reset_index() "
   ]
  },
  {
   "cell_type": "code",
   "execution_count": 140,
   "id": "549c8d3f",
   "metadata": {},
   "outputs": [],
   "source": [
    "departure.columns = [\"index\",\"departure_airport\",\"departure_timezone\",\"departure_iata\",\"departure_icao\",\"departure_terminal\",\"departure_gate\",\"departure_delay\",\"departure_scheduled\",\"departure_estimated\",\"departure_actual\",\"departure_estimated_runway\",\"departure_actual_runway\"]"
   ]
  },
  {
   "cell_type": "code",
   "execution_count": 145,
   "id": "765e6fc3",
   "metadata": {},
   "outputs": [],
   "source": [
    "arrival.columns = [\"index\",\"arrival_airport\",\"arrival_timezone\",\"arrival_iata\",\"arrival_icao\",\"arrival_terminal\",\"arrival_gate\",\"arrival_delay\",\"arrival_scheduled\",\"arrival_estimated\",\"arrival_actual\",\"arrival_estimated_runway\",\"arrival_actual_runway\",\"baggage\"]"
   ]
  },
  {
   "cell_type": "code",
   "execution_count": 150,
   "id": "387846ec",
   "metadata": {},
   "outputs": [],
   "source": [
    "flight.columns = [\"index\",\"flight_no\",\"flight_iata\",\"flight_icao\",\"codeshared\"]"
   ]
  },
  {
   "cell_type": "code",
   "execution_count": 154,
   "id": "1bcdd411",
   "metadata": {},
   "outputs": [],
   "source": [
    "airline.columns = [\"index\",\"airline_name\",\"airline_iata\",\"airline_icao\"]"
   ]
  },
  {
   "cell_type": "code",
   "execution_count": 157,
   "id": "00dfb203",
   "metadata": {},
   "outputs": [],
   "source": [
    "flightinfo = flightdata[[\"flight_date\",\"flight_status\"]]"
   ]
  },
  {
   "cell_type": "code",
   "execution_count": 159,
   "id": "df29495d",
   "metadata": {},
   "outputs": [],
   "source": [
    "departureinfo = departure[[\"departure_airport\",\"departure_timezone\"]]"
   ]
  },
  {
   "cell_type": "code",
   "execution_count": 161,
   "id": "f3dfd889",
   "metadata": {},
   "outputs": [],
   "source": [
    "arrivalinfo = arrival[[\"arrival_airport\",\"arrival_timezone\",\"arrival_scheduled\"]]"
   ]
  },
  {
   "cell_type": "code",
   "execution_count": 165,
   "id": "2218e879",
   "metadata": {},
   "outputs": [],
   "source": [
    "airplaneinfo = airline[\"airline_name\"]"
   ]
  },
  {
   "cell_type": "code",
   "execution_count": 170,
   "id": "1bf3f4ef",
   "metadata": {},
   "outputs": [],
   "source": [
    "dataset = pd.concat([flightinfo,departureinfo, arrivalinfo, airplaneinfo ], axis=1)"
   ]
  },
  {
   "cell_type": "code",
   "execution_count": 172,
   "id": "480be457",
   "metadata": {},
   "outputs": [],
   "source": [
    "dataset.to_csv('plane_data.csv', index=False) "
   ]
  },
  {
   "cell_type": "code",
   "execution_count": 31,
   "id": "0623b81a",
   "metadata": {},
   "outputs": [
    {
     "data": {
      "text/plain": [
       "Index(['flight_date', 'flight_status', 'departure', 'arrival', 'airline',\n",
       "       'flight', 'aircraft', 'live'],\n",
       "      dtype='object')"
      ]
     },
     "execution_count": 31,
     "metadata": {},
     "output_type": "execute_result"
    }
   ],
   "source": [
    "flightdata.columns\n"
   ]
  },
  {
   "cell_type": "code",
   "execution_count": null,
   "id": "b23d0b0b",
   "metadata": {},
   "outputs": [],
   "source": []
  }
 ],
 "metadata": {
  "kernelspec": {
   "display_name": "Python 3 (ipykernel)",
   "language": "python",
   "name": "python3"
  },
  "language_info": {
   "codemirror_mode": {
    "name": "ipython",
    "version": 3
   },
   "file_extension": ".py",
   "mimetype": "text/x-python",
   "name": "python",
   "nbconvert_exporter": "python",
   "pygments_lexer": "ipython3",
   "version": "3.9.16"
  }
 },
 "nbformat": 4,
 "nbformat_minor": 5
}
